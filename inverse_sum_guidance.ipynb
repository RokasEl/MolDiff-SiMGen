{
 "cells": [
  {
   "cell_type": "code",
   "execution_count": 1,
   "metadata": {},
   "outputs": [
    {
     "name": "stderr",
     "output_type": "stream",
     "text": [
      "/home/rokas/miniconda3/envs/genesis/lib/python3.12/site-packages/e3nn/o3/_wigner.py:10: FutureWarning: You are using `torch.load` with `weights_only=False` (the current default value), which uses the default pickle module implicitly. It is possible to construct malicious pickle data which will execute arbitrary code during unpickling (See https://github.com/pytorch/pytorch/blob/main/SECURITY.md#untrusted-models for more details). In a future release, the default value for `weights_only` will be flipped to `True`. This limits the functions that could be executed during unpickling. Arbitrary objects will no longer be allowed to be loaded via this mode unless they are explicitly allowlisted by the user via `torch.serialization.add_safe_globals`. We recommend you start setting `weights_only=True` for any use case where you don't have full control of the loaded file. Please open an issue on GitHub for any issues related to this experimental feature.\n",
      "  _Jd, _W3j_flat, _W3j_indices = torch.load(os.path.join(os.path.dirname(__file__), 'constants.pt'))\n"
     ]
    }
   ],
   "source": [
    "import pathlib\n",
    "\n",
    "from rdkit import Chem\n",
    "from rdkit.Chem import rdDistGeom\n",
    "import torch\n",
    "from mace.calculators import mace_off\n",
    "import numpy as np\n",
    "\n",
    "import ase\n",
    "import ase.io as aio\n",
    "from ase import units as ase_units\n",
    "from ase.visualize import view\n",
    "from ase.optimize import FIRE\n",
    "from ase.md import Langevin\n",
    "import pandas as pd\n",
    "from simgen.calculators import MaceSimilarityCalculator"
   ]
  },
  {
   "cell_type": "code",
   "execution_count": 2,
   "metadata": {},
   "outputs": [],
   "source": [
    "ref_atoms = aio.read(\"penicillin_analogues.xyz\", index=\":\")\n",
    "core_ids = np.load(\"penicillin_core_ids.npy\")"
   ]
  },
  {
   "cell_type": "code",
   "execution_count": 3,
   "metadata": {},
   "outputs": [
    {
     "data": {
      "text/plain": [
       "True"
      ]
     },
     "execution_count": 3,
     "metadata": {},
     "output_type": "execute_result"
    }
   ],
   "source": [
    "len(core_ids) == len(ref_atoms)"
   ]
  },
  {
   "cell_type": "code",
   "execution_count": 4,
   "metadata": {},
   "outputs": [
    {
     "name": "stdout",
     "output_type": "stream",
     "text": [
      "Using MACE-OFF23 MODEL for MACECalculator with /home/rokas/.cache/mace/MACE-OFF23_medium.model\n",
      "Using float32 for MACECalculator, which is faster but less accurate. Recommended for MD. Use float64 for geometry optimization.\n"
     ]
    },
    {
     "name": "stderr",
     "output_type": "stream",
     "text": [
      "/home/rokas/miniconda3/envs/genesis/lib/python3.12/site-packages/mace/calculators/mace.py:135: FutureWarning: You are using `torch.load` with `weights_only=False` (the current default value), which uses the default pickle module implicitly. It is possible to construct malicious pickle data which will execute arbitrary code during unpickling (See https://github.com/pytorch/pytorch/blob/main/SECURITY.md#untrusted-models for more details). In a future release, the default value for `weights_only` will be flipped to `True`. This limits the functions that could be executed during unpickling. Arbitrary objects will no longer be allowed to be loaded via this mode unless they are explicitly allowlisted by the user via `torch.serialization.add_safe_globals`. We recommend you start setting `weights_only=True` for any use case where you don't have full control of the loaded file. Please open an issue on GitHub for any issues related to this experimental feature.\n",
      "  torch.load(f=model_path, map_location=device)\n"
     ]
    },
    {
     "name": "stdout",
     "output_type": "stream",
     "text": [
      "Default dtype float32 does not match model dtype float64, converting models to float32.\n"
     ]
    }
   ],
   "source": [
    "calc = mace_off(\"medium\", device=\"cuda\", default_dtype=\"float32\")"
   ]
  },
  {
   "cell_type": "code",
   "execution_count": 5,
   "metadata": {},
   "outputs": [],
   "source": [
    "z_table = calc.z_table\n",
    "core_atom_masks = []\n",
    "for atoms, mask in zip(ref_atoms, core_ids, strict=True):\n",
    "    core_atom_mask = np.zeros(len(atoms), dtype=bool)\n",
    "    core_atom_mask[mask] = True\n",
    "    core_atom_masks.append(core_atom_mask)"
   ]
  },
  {
   "cell_type": "code",
   "execution_count": 6,
   "metadata": {},
   "outputs": [],
   "source": [
    "element_sigma_array = (\n",
    "        np.ones_like(z_table.zs, dtype=np.float32) * 1.\n",
    "    )\n",
    "element_sigma_array[z_table.z_to_index(16)] = 0.5\n",
    "sim_calc = MaceSimilarityCalculator(\n",
    "    model=calc.models[0],\n",
    "    reference_data=ref_atoms,\n",
    "    ref_data_mask=core_atom_masks,\n",
    "    element_sigma_array=element_sigma_array,\n",
    "    max_norm=None,\n",
    "    device=\"cuda\",\n",
    ")"
   ]
  },
  {
   "cell_type": "code",
   "execution_count": 7,
   "metadata": {},
   "outputs": [],
   "source": [
    "from torch_scatter import scatter_logsumexp"
   ]
  },
  {
   "cell_type": "code",
   "execution_count": 8,
   "metadata": {},
   "outputs": [],
   "source": [
    "# read sdf files\n",
    "from rdkit.Chem import AllChem\n",
    "import matplotlib.pyplot as plt"
   ]
  },
  {
   "cell_type": "code",
   "execution_count": 9,
   "metadata": {},
   "outputs": [],
   "source": [
    "sdf_path = pathlib.Path(\"./results_inverse_summation/exp_1/SDF\")\n",
    "sdf_files = list(sdf_path.glob(\"*.sdf\"))\n",
    "mols = []\n",
    "original_indices = []\n",
    "for sdf_file in sdf_files:\n",
    "    suppl = Chem.SDMolSupplier(str(sdf_file))\n",
    "    original_indices.append(int(sdf_file.stem.split(\"_\")[-1]))\n",
    "    for mol in suppl:\n",
    "        if mol is not None:\n",
    "            mols.append(mol)\n",
    "        else:\n",
    "            print(f\"Failed to read {sdf_file}\")\n",
    "            mols.append(None)"
   ]
  },
  {
   "cell_type": "code",
   "execution_count": 10,
   "metadata": {},
   "outputs": [],
   "source": [
    "def rdkit_mol_2_ase(mol):\n",
    "    symbols = [atom.GetSymbol() for atom in mol.GetAtoms()]\n",
    "    positions = mol.GetConformer().GetPositions()\n",
    "    return ase.Atoms(symbols, positions)"
   ]
  },
  {
   "cell_type": "code",
   "execution_count": 11,
   "metadata": {},
   "outputs": [],
   "source": [
    "@torch.no_grad()\n",
    "def calculate_log_dens(sim_calc, atoms_list, noise_level=1.):\n",
    "    batch = sim_calc.batch_atoms(atoms_list)\n",
    "    embeddings = sim_calc._get_node_embeddings(batch)\n",
    "    squared_distance_matrix = sim_calc._calculate_distance_matrix(embeddings, batch.node_attrs)\n",
    "    additional_multiplier = 119 * (1 - (noise_level / 10) ** 0.25) + 1 if noise_level <= 10 else 1\n",
    "    squared_distance_matrix = squared_distance_matrix * additional_multiplier # (N_config_atoms, N_ref_atoms)\n",
    "    log_dens = scatter_logsumexp(-squared_distance_matrix / 2, batch.batch, dim=0) # (N_graphs, N_ref_atoms)\n",
    "    log_dens = log_dens.sum(dim=-1) # (N_graphs,)\n",
    "    return log_dens"
   ]
  },
  {
   "cell_type": "code",
   "execution_count": 12,
   "metadata": {},
   "outputs": [
    {
     "data": {
      "text/plain": [
       "tensor([ 65.5774,  63.2174,  72.1146,  66.4984,  99.9971,  69.8439,  63.4859,\n",
       "         50.8289,  74.8841,  52.7855,  53.6182,  69.8986,  48.6394, 100.5560,\n",
       "         58.2607,  46.1695,  61.7684,  64.0592,  98.1184,  81.0905,  76.4963,\n",
       "         60.9599], device='cuda:0')"
      ]
     },
     "execution_count": 12,
     "metadata": {},
     "output_type": "execute_result"
    }
   ],
   "source": [
    "calculate_log_dens(sim_calc, ref_atoms, noise_level=1)"
   ]
  },
  {
   "cell_type": "code",
   "execution_count": 30,
   "metadata": {},
   "outputs": [],
   "source": [
    "generated_densities = np.zeros((len(mols)))\n",
    "batch_size = 32\n",
    "noise_level = 1.\n",
    "for start_idx in range(0, len(mols), batch_size):\n",
    "    end_idx = min(start_idx+batch_size, len(mols))\n",
    "    mols_batch = mols[start_idx:start_idx+batch_size]\n",
    "    atoms_batch = [rdkit_mol_2_ase(mol) for mol in mols_batch]\n",
    "    log_dens = calculate_log_dens(sim_calc, atoms_batch, noise_level=noise_level)\n",
    "    generated_densities[start_idx:end_idx] = log_dens.detach().cpu().numpy()"
   ]
  },
  {
   "cell_type": "code",
   "execution_count": 31,
   "metadata": {},
   "outputs": [
    {
     "data": {
      "text/plain": [
       "<matplotlib.collections.PathCollection at 0x7f1503726060>"
      ]
     },
     "execution_count": 31,
     "metadata": {},
     "output_type": "execute_result"
    },
    {
     "data": {
      "image/png": "[encoded data removed]",
      "text/plain": [
       "<Figure size 640x480 with 1 Axes>"
      ]
     },
     "metadata": {},
     "output_type": "display_data"
    }
   ],
   "source": [
    "plt.scatter(np.arange(len(mols)), generated_densities)"
   ]
  },
  {
   "cell_type": "code",
   "execution_count": 32,
   "metadata": {},
   "outputs": [
    {
     "data": {
      "text/plain": [
       "array([1282, 1234,  899, 1233,   51,  227,   16,  236, 1377,   57])"
      ]
     },
     "execution_count": 32,
     "metadata": {},
     "output_type": "execute_result"
    }
   ],
   "source": [
    "np.argsort(generated_densities)[-10:]"
   ]
  },
  {
   "cell_type": "code",
   "execution_count": 46,
   "metadata": {},
   "outputs": [
    {
     "data": {
      "text/plain": [
       "986"
      ]
     },
     "execution_count": 46,
     "metadata": {},
     "output_type": "execute_result"
    }
   ],
   "source": [
    "original_indices[227]"
   ]
  },
  {
   "cell_type": "code",
   "execution_count": 41,
   "metadata": {},
   "outputs": [
    {
     "data": {
      "text/plain": [
       "array([1282, 1234,  899,   51,  227, 1233,   16,  236, 1377,   57])"
      ]
     },
     "execution_count": 41,
     "metadata": {},
     "output_type": "execute_result"
    }
   ],
   "source": [
    "np.argsort(generated_densities)[-10:]"
   ]
  },
  {
   "cell_type": "code",
   "execution_count": 33,
   "metadata": {},
   "outputs": [
    {
     "data": {
      "image/png": "[encoded data removed]",
      "text/plain": [
       "<rdkit.Chem.rdchem.Mol at 0x7f1536cbd930>"
      ]
     },
     "execution_count": 33,
     "metadata": {},
     "output_type": "execute_result"
    }
   ],
   "source": [
    "mols[57]"
   ]
  },
  {
   "cell_type": "code",
   "execution_count": 34,
   "metadata": {},
   "outputs": [
    {
     "data": {
      "text/plain": [
       "tensor([-1221.3005, -1352.8049, -1290.4685, -1365.5681,  -903.3139,  -981.6037,\n",
       "        -1331.5499, -1301.5227, -1248.6289, -1088.5581,  -947.5662,  -897.1921,\n",
       "         -864.4614, -1022.4384,  -986.5009, -1227.9324], device='cuda:0')"
      ]
     },
     "execution_count": 34,
     "metadata": {},
     "output_type": "execute_result"
    }
   ],
   "source": [
    "atoms = aio.read(\"./moldiff_traj.xyz\", index=\":\")\n",
    "calculate_log_dens(sim_calc, atoms, noise_level=1)"
   ]
  },
  {
   "cell_type": "code",
   "execution_count": 35,
   "metadata": {},
   "outputs": [],
   "source": [
    "from rdkit.Chem import Draw"
   ]
  },
  {
   "cell_type": "code",
   "execution_count": 41,
   "metadata": {},
   "outputs": [
    {
     "data": {
      "image/png": "[encoded data removed]",
      "text/plain": [
       "<rdkit.Chem.rdchem.Mol at 0x7f150368f2e0>"
      ]
     },
     "execution_count": 41,
     "metadata": {},
     "output_type": "execute_result"
    }
   ],
   "source": [
    "mol = Chem.Mol(mols[227])\n",
    "mol.RemoveAllConformers()\n",
    "mol"
   ]
  },
  {
   "cell_type": "code",
   "execution_count": 119,
   "metadata": {},
   "outputs": [
    {
     "data": {
      "text/plain": [
       "tensor([[[-0.1376,  0.1872,  0.0246,  ...,  0.6040, -0.7544, -0.0225],\n",
       "         [-0.2037,  0.1289,  0.0501,  ...,  0.4472, -0.5450,  0.0604],\n",
       "         [-0.0237, -0.0658, -0.0770,  ..., -0.1141, -0.4711,  0.1180],\n",
       "         ...,\n",
       "         [-0.1777,  0.1067,  0.0144,  ...,  0.6121, -0.6897, -0.0261],\n",
       "         [ 0.1897, -0.0233,  0.2690,  ..., -0.0878, -0.2475, -0.2653],\n",
       "         [-0.1693,  0.1100,  0.0400,  ...,  0.6377, -0.7145,  0.0765]],\n",
       "\n",
       "        [[-0.1607,  0.0932,  0.0650,  ...,  0.6010, -0.7056,  0.0471],\n",
       "         [ 0.1787, -0.0453,  0.2505,  ..., -0.1006, -0.2423, -0.2229],\n",
       "         [-0.1704,  0.1138,  0.0135,  ...,  0.6064, -0.6902, -0.0351],\n",
       "         ...,\n",
       "         [-0.2206,  0.1456,  0.0529,  ...,  0.4297, -0.5505,  0.0640],\n",
       "         [-0.0159, -0.0613, -0.0739,  ..., -0.1051, -0.4632,  0.1205],\n",
       "         [-0.1650,  0.1331,  0.0746,  ...,  0.5239, -0.6987, -0.0392]],\n",
       "\n",
       "        [[-0.1678,  0.1106,  0.0415,  ...,  0.6296, -0.7037,  0.0574],\n",
       "         [ 0.1845, -0.0146,  0.2757,  ..., -0.1151, -0.2310, -0.2342],\n",
       "         [-0.1761,  0.1133,  0.0045,  ...,  0.6151, -0.6946, -0.0413],\n",
       "         ...,\n",
       "         [-0.2073,  0.1363,  0.0475,  ...,  0.4353, -0.5406,  0.0706],\n",
       "         [-0.0126, -0.0631, -0.0805,  ..., -0.1089, -0.4578,  0.1135],\n",
       "         [-0.1610,  0.1239,  0.0527,  ...,  0.5353, -0.7141, -0.0357]],\n",
       "\n",
       "        ...,\n",
       "\n",
       "        [[-0.1558,  0.1702,  0.0248,  ...,  0.5816, -0.7404, -0.0094],\n",
       "         [-0.1999,  0.1289,  0.0890,  ...,  0.4589, -0.5465,  0.0553],\n",
       "         [-0.0545, -0.0505, -0.0637,  ..., -0.1188, -0.5075,  0.1287],\n",
       "         ...,\n",
       "         [-0.1785,  0.1155,  0.0060,  ...,  0.6106, -0.6972, -0.0366],\n",
       "         [ 0.1812, -0.0236,  0.2722,  ..., -0.1011, -0.2390, -0.2569],\n",
       "         [-0.1708,  0.1093,  0.0447,  ...,  0.6378, -0.7172,  0.0681]],\n",
       "\n",
       "        [[-0.2042,  0.1009,  0.0634,  ...,  0.5827, -0.6826,  0.0821],\n",
       "         [-0.1267,  0.1294, -0.0059,  ...,  0.4411, -0.7007, -0.1628],\n",
       "         [-0.1496,  0.1179,  0.0711,  ...,  0.4582, -0.5226,  0.0620],\n",
       "         ...,\n",
       "         [-0.1913,  0.1384,  0.0804,  ...,  0.5382, -0.7004,  0.0740],\n",
       "         [-0.2298,  0.1522,  0.0415,  ...,  0.5379, -0.6815,  0.0114],\n",
       "         [ 0.2445, -0.1446, -0.1594,  ..., -0.1711,  0.0100, -0.0984]],\n",
       "\n",
       "        [[-0.1755,  0.1107,  0.0503,  ...,  0.6314, -0.6913,  0.0791],\n",
       "         [ 0.1991, -0.0399,  0.2461,  ..., -0.0779, -0.2425, -0.2461],\n",
       "         [-0.1797,  0.1093,  0.0182,  ...,  0.6137, -0.6908, -0.0297],\n",
       "         ...,\n",
       "         [-0.2009,  0.1338,  0.0450,  ...,  0.4408, -0.5387,  0.0662],\n",
       "         [-0.0134, -0.0663, -0.0820,  ..., -0.1097, -0.4591,  0.1139],\n",
       "         [-0.1582,  0.1147,  0.0502,  ...,  0.5376, -0.7344, -0.0245]]],\n",
       "       device='cuda:0')"
      ]
     },
     "execution_count": 119,
     "metadata": {},
     "output_type": "execute_result"
    }
   ],
   "source": [
    "sim_calc.reference_embeddings.view(-1, 8, 128)"
   ]
  },
  {
   "cell_type": "code",
   "execution_count": 127,
   "metadata": {},
   "outputs": [],
   "source": [
    "noise_level = 0.25\n",
    "simgen_batch = sim_calc.batch_atoms([ref_atoms[0], ref_atoms[0][core_atom_masks[0]], rdkit_mol_2_ase(mols[1310])])\n",
    "embeddings = sim_calc._get_node_embeddings(simgen_batch)\n",
    "\n",
    "squared_distance_matrix = sim_calc._calculate_distance_matrix(embeddings, simgen_batch.node_attrs)\n",
    "additional_multiplier = 119 * (1 - (noise_level / 10) ** 0.25) + 1 if noise_level <= 10 else 1\n",
    "squared_distance_matrix = squared_distance_matrix * additional_multiplier # (N_config_atoms, N_ref_atoms)\n",
    "log_dens = scatter_logsumexp(-squared_distance_matrix / 2, simgen_batch.batch, dim=0) # (N_graphs, N_ref_atoms)\n",
    "log_dens = log_dens.sum(dim=-1) # (N_graphs,)\n",
    "forces = sim_calc._get_gradient(simgen_batch.positions, log_dens)"
   ]
  },
  {
   "cell_type": "code",
   "execution_count": 128,
   "metadata": {},
   "outputs": [
    {
     "data": {
      "text/plain": [
       "tensor([    2.7515, -1560.8644, -1057.2496], device='cuda:0',\n",
       "       grad_fn=<SumBackward1>)"
      ]
     },
     "execution_count": 128,
     "metadata": {},
     "output_type": "execute_result"
    }
   ],
   "source": [
    "log_dens"
   ]
  },
  {
   "cell_type": "code",
   "execution_count": 92,
   "metadata": {},
   "outputs": [
    {
     "data": {
      "text/plain": [
       "(tensor([[ 2.0204e+01, -8.4398e+00,  1.1386e+01],\n",
       "         [ 1.4803e+01,  3.4928e+01, -1.8032e+01],\n",
       "         [ 4.3897e+01, -9.0774e+00,  1.0254e+01],\n",
       "         [-1.1490e+02,  1.2510e+01,  1.7779e+01],\n",
       "         [ 2.1692e+00, -2.0572e+01, -2.2251e+01],\n",
       "         [ 7.3738e+01,  1.1233e+01,  3.3118e+01],\n",
       "         [ 8.8243e+01, -1.5268e+01, -3.5045e+01],\n",
       "         [-7.1221e+01,  3.5382e-01, -1.9334e+01],\n",
       "         [ 1.6638e+01, -3.7908e+01,  2.5332e+01],\n",
       "         [ 1.7010e+01, -2.1822e+01, -4.6770e+00],\n",
       "         [-2.0579e+01,  4.0142e+01,  9.7390e+00],\n",
       "         [-3.7914e+00,  2.6878e+01,  2.5178e+00],\n",
       "         [ 8.3588e+00, -7.0122e+00,  4.7712e+00],\n",
       "         [-7.1104e+00, -8.5730e+00,  9.7681e+00],\n",
       "         [-5.8270e+01, -2.2708e+01, -3.0593e+01],\n",
       "         [-4.4097e+01,  3.1746e+01, -2.0966e+01],\n",
       "         [-1.6284e+01,  2.5291e+01,  2.2046e+01],\n",
       "         [ 1.7061e+01, -3.2810e+01,  1.0109e+01],\n",
       "         [ 4.4424e+00, -6.7592e+00, -6.0140e+00],\n",
       "         [ 1.2308e+01,  1.1108e+01,  1.1331e+01],\n",
       "         [ 3.1836e+01, -1.2881e+01,  1.8771e+01],\n",
       "         [ 6.8108e-01, -5.5241e+00, -4.2788e+01],\n",
       "         [-7.8124e-01,  3.5051e+00,  5.5553e+00],\n",
       "         [-6.4649e+00, -5.7131e+00,  3.6555e+00],\n",
       "         [-1.3482e+01, -7.1980e+00, -1.9858e+01],\n",
       "         [ 4.5827e+00, -1.2837e+01,  1.4407e+01],\n",
       "         [-4.4801e+00,  2.0880e+00, -1.1684e-01],\n",
       "         [ 1.0056e+00,  1.9388e+00,  4.5342e+00],\n",
       "         [-3.6028e-01,  5.6762e+00,  6.7989e+00],\n",
       "         [-1.0951e-02,  2.8856e+00, -2.6647e+00],\n",
       "         [-2.8379e+00,  2.0154e-01, -2.5858e+00],\n",
       "         [-9.5994e-01,  1.7368e+00, -2.4140e+00],\n",
       "         [ 3.0442e+00,  9.4963e+00,  1.2266e+01],\n",
       "         [ 1.2532e+01, -3.1290e+00, -2.3179e+01],\n",
       "         [-5.6893e+00, -1.2302e+01, -1.9174e+01],\n",
       "         [-3.2595e+00,  2.5687e+00,  1.2877e+00],\n",
       "         [ 1.6452e+00, -8.5283e-01, -2.9023e+00],\n",
       "         [-2.6060e-01,  2.0078e+00, -1.0326e-01],\n",
       "         [ 2.7328e-01, -2.0894e+00,  1.2722e+00],\n",
       "         [ 2.6580e-01,  8.1147e-01, -1.9836e+00],\n",
       "         [ 1.0610e+01,  3.2710e+00,  1.3367e+00]], device='cuda:0',\n",
       "        grad_fn=<SliceBackward0>),\n",
       " tensor([[-6.6227e+00, -2.0587e+00, -1.8515e+00],\n",
       "         [ 1.7012e+00,  4.0809e+00, -5.9233e-01],\n",
       "         [-7.1334e+00,  2.2976e+00,  2.3865e+01],\n",
       "         [ 1.5449e+00,  1.8780e+01,  1.5227e+01],\n",
       "         [-4.0143e+01,  7.1624e+01, -2.6739e+01],\n",
       "         [ 3.2041e+01,  5.9496e+01, -2.2538e+01],\n",
       "         [ 6.7148e+01, -5.0096e+01,  3.5224e+01],\n",
       "         [-1.8030e+02,  3.1623e+00, -1.4700e+01],\n",
       "         [-3.0666e+01,  9.7421e-01,  1.8861e+01],\n",
       "         [ 4.0300e+02,  1.1888e+02,  6.1090e+01],\n",
       "         [ 4.8978e+02, -6.1334e+02, -3.6305e+02],\n",
       "         [-3.9633e+02, -4.1978e+02,  2.7572e+02],\n",
       "         [-8.2310e-01,  1.3543e+02, -1.0602e+02],\n",
       "         [ 2.0021e+02,  9.2113e+01, -7.5231e+01],\n",
       "         [-2.3659e+02,  8.4405e+02,  2.1194e+02],\n",
       "         [-3.1044e+01, -3.0093e+01, -4.2983e+01],\n",
       "         [-1.4152e+02, -1.1846e+02, -3.0202e+01],\n",
       "         [-1.3954e+02,  1.5181e+01, -3.1080e+01],\n",
       "         [ 4.4835e+01, -6.5161e+01, -3.3345e+01],\n",
       "         [-4.0396e+00,  8.9541e+00, -8.0886e-02],\n",
       "         [-1.5202e+00, -6.6298e-01,  6.5399e-02],\n",
       "         [ 4.5597e+01,  1.3038e+01,  6.3341e+01],\n",
       "         [ 1.3069e+01, -3.1880e+01,  2.5183e+01],\n",
       "         [-9.4208e+01, -3.5089e+01,  5.2853e+01],\n",
       "         [ 1.0413e+00,  1.6650e+00,  1.6907e+00],\n",
       "         [-8.4033e+01, -2.4329e+02, -3.4654e+01],\n",
       "         [-3.3133e+01, -1.0637e+02, -3.2492e+02],\n",
       "         [ 3.5034e+01, -6.0396e+00, -2.8753e+01],\n",
       "         [ 2.1337e+01, -6.2065e-01,  2.8996e+00],\n",
       "         [ 9.6266e+01, -6.4008e+00,  1.2043e+02],\n",
       "         [-4.3461e+00,  1.7274e+01, -4.9285e+01],\n",
       "         [-3.2061e+02, -3.6604e+02, -9.0498e+01],\n",
       "         [ 6.8869e+02,  2.2962e+01, -5.1159e+01],\n",
       "         [-1.3252e+02,  1.9645e+02, -8.5010e+01],\n",
       "         [-1.0072e+02, -9.5197e+01,  8.5534e+01],\n",
       "         [ 2.3935e+02,  1.8579e+02,  2.5328e+02],\n",
       "         [-1.8435e+01, -5.9007e+01,  5.1654e+01],\n",
       "         [ 1.1911e+01, -5.9076e+00,  2.5841e+01],\n",
       "         [ 7.0030e+01,  7.3353e+01, -3.7218e+01],\n",
       "         [-8.6421e+01, -4.2395e+01,  6.3877e+01],\n",
       "         [-4.0511e+02,  4.0362e+02,  1.2884e+02],\n",
       "         [-7.6841e+01,  1.2148e+02, -1.7959e+02],\n",
       "         [-4.3761e+00, -8.6128e+01,  8.5687e+01],\n",
       "         [-2.9666e+00,  4.7669e+01, -5.9515e+01],\n",
       "         [ 1.0689e+02, -5.1202e+01,  1.2255e+02]], device='cuda:0',\n",
       "        grad_fn=<SliceBackward0>))"
      ]
     },
     "execution_count": 92,
     "metadata": {},
     "output_type": "execute_result"
    }
   ],
   "source": [
    "forces[:len(atoms)], forces[len(atoms):]"
   ]
  },
  {
   "cell_type": "code",
   "execution_count": 14,
   "metadata": {},
   "outputs": [
    {
     "data": {
      "text/plain": [
       "array([-2.7131485e-02,  1.5595867e-12, -4.1559484e-02,  8.4436760e+00,\n",
       "        8.5579748e+00, -5.4600157e-02,  5.7608931e-13,  1.8012048e-12,\n",
       "        3.7470520e-13, -7.8069888e-02,  8.5241613e+00,  8.6595182e+00,\n",
       "        1.1370305e+00,  3.3249624e+00,  1.9393549e+01,  1.9508036e+01,\n",
       "        1.9793276e+01,  1.9743000e+01,  1.9775654e+01,  1.9470861e+01,\n",
       "        7.9355264e+00,  1.5354022e+01,  1.4680674e+00,  3.1703062e+01,\n",
       "        3.1108341e+01,  3.1523886e+01,  3.1064209e+01,  3.1751268e+01,\n",
       "        3.1553583e+01,  3.1354902e+01,  3.4457939e+01,  3.1960493e+01,\n",
       "        3.3785759e+01,  3.1593504e+01,  3.1536148e+01,  2.9276260e+01,\n",
       "        2.9371902e+01,  2.9375990e+01,  2.9374193e+01,  2.9251598e+01,\n",
       "        3.5166107e+01], dtype=float32)"
      ]
     },
     "execution_count": 14,
     "metadata": {},
     "output_type": "execute_result"
    }
   ],
   "source": [
    "atoms.info[\"calculation_type\"] = \"similarity\"\n",
    "atoms.info[\"time\"] = 0.1\n",
    "sim_calc.get_potential_energies(atoms)"
   ]
  }
 ],
 "metadata": {
  "kernelspec": {
   "display_name": "genesis",
   "language": "python",
   "name": "python3"
  },
  "language_info": {
   "codemirror_mode": {
    "name": "ipython",
    "version": 3
   },
   "file_extension": ".py",
   "mimetype": "text/x-python",
   "name": "python",
   "nbconvert_exporter": "python",
   "pygments_lexer": "ipython3",
   "version": "3.11.8"
  }
 },
 "nbformat": 4,
 "nbformat_minor": 2
}
